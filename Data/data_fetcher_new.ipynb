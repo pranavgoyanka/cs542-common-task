{
 "cells": [
  {
   "cell_type": "code",
   "execution_count": 130,
   "metadata": {},
   "outputs": [],
   "source": [
    "import openmeteo_requests\n",
    "import requests_cache\n",
    "import pandas as pd\n",
    "from retry_requests import retry\n",
    "import requests\n",
    "import pathlib\n",
    "import json\n",
    "from datetime import datetime"
   ]
  },
  {
   "cell_type": "code",
   "execution_count": 33,
   "metadata": {},
   "outputs": [
    {
     "name": "stdout",
     "output_type": "stream",
     "text": [
      "<class 'str'>\n"
     ]
    }
   ],
   "source": [
    "# Load API keys\n",
    "from dotenv import load_dotenv\n",
    "import os\n",
    "load_dotenv() \n",
    "# print(type(os.getenv(\"VISUAL_CROSSING_API_KEY\")))"
   ]
  },
  {
   "cell_type": "code",
   "execution_count": 191,
   "metadata": {},
   "outputs": [],
   "source": [
    "# Define some constants\n",
    "latitude = [40.79736, 41.78701, 30.1444, 25.7738]\n",
    "longitude = [-73.97785, -87.77166, -97.66876, -80.1936]\n",
    "cities = [\"ny\", \"il\", \"tx\", \"fl\"]\n",
    "start_date = \"2016-01-01\"\n",
    "end_date = \"2024-03-12\""
   ]
  },
  {
   "cell_type": "markdown",
   "metadata": {},
   "source": [
    "## API Calls to collect historical weather data"
   ]
  },
  {
   "cell_type": "code",
   "execution_count": 55,
   "metadata": {},
   "outputs": [],
   "source": [
    "def getDataFromOpenMeteo(latitude, longitude, startDate, endDate, fileName):\n",
    "  # Data Source 1\n",
    "\t# Setup the Open-Meteo API client with cache and retry on error\n",
    "\tcache_session = requests_cache.CachedSession('.cache', expire_after = -1)\n",
    "\tretry_session = retry(cache_session, retries = 5, backoff_factor = 0.2)\n",
    "\topenmeteo = openmeteo_requests.Client(session = retry_session)\n",
    "\n",
    "\t# Make sure all required weather variables are listed here\n",
    "\t# The order of variables in hourly or daily is important to assign them correctly below\n",
    "\turl = \"https://archive-api.open-meteo.com/v1/archive\"\n",
    "\tparams = {\n",
    "\t\t\"latitude\": latitude,\n",
    "\t\t\"longitude\": longitude,\n",
    "\t\t\"start_date\": startDate,\n",
    "\t\t\"end_date\": endDate,\n",
    "\t\t\"daily\": [\"temperature_2m_max\", \"temperature_2m_min\", \"sunshine_duration\", \"precipitation_hours\", \"wind_speed_10m_max\"],\n",
    "\t}\n",
    "\tresponses = openmeteo.weather_api(url, params=params)\n",
    "\n",
    "\t# Process first location. Add a for-loop for multiple locations or weather models\n",
    "\tresponse = responses[0]\n",
    "\tprint(f\"Coordinates {response.Latitude()}°N {response.Longitude()}°E\")\n",
    "\tprint(f\"Elevation {response.Elevation()} m asl\")\n",
    "\tprint(f\"Timezone {response.Timezone()} {response.TimezoneAbbreviation()}\")\n",
    "\tprint(f\"Timezone difference to GMT+0 {response.UtcOffsetSeconds()} s\")\n",
    "\n",
    "\t# Process daily data. The order of variables needs to be the same as requested.\n",
    "\tdaily = response.Daily()\n",
    "\tdaily_temperature_2m_max = daily.Variables(0).ValuesAsNumpy()\n",
    "\tdaily_temperature_2m_min = daily.Variables(1).ValuesAsNumpy()\n",
    "\tdaily_sunshine_duration = daily.Variables(2).ValuesAsNumpy()\n",
    "\tdaily_precipitation_hours = daily.Variables(3).ValuesAsNumpy()\n",
    "\tdaily_wind_speed_10m_max = daily.Variables(4).ValuesAsNumpy()\n",
    "\n",
    "\tdaily_data = {\"date\": pd.date_range(\n",
    "\t\tstart = pd.to_datetime(daily.Time(), unit = \"s\", utc = True),\n",
    "\t\tend = pd.to_datetime(daily.TimeEnd(), unit = \"s\", utc = True),\n",
    "\t\tfreq = pd.Timedelta(seconds = daily.Interval()),\n",
    "\t\tinclusive = \"left\"\n",
    "\t)}\n",
    "\tdaily_data[\"temperature_2m_max\"] = daily_temperature_2m_max\n",
    "\tdaily_data[\"temperature_2m_min\"] = daily_temperature_2m_min\n",
    "\tdaily_data[\"sunshine_duration\"] = daily_sunshine_duration\n",
    "\tdaily_data[\"precipitation_hours\"] = daily_precipitation_hours\n",
    "\tdaily_data[\"wind_speed_10m_max\"] = daily_wind_speed_10m_max\n",
    "\n",
    "\tdaily_dataframe = pd.DataFrame(data = daily_data)\n",
    "\tdaily_dataframe.to_csv(\"openMeteo_\" + '_'.join([fileName, startDate, 'to', endDate]) +  \".csv\", index=False)\n",
    "\treturn daily_dataframe\n",
    "\t# print(daily_dataframe)\n"
   ]
  },
  {
   "cell_type": "code",
   "execution_count": 101,
   "metadata": {},
   "outputs": [],
   "source": [
    "# WARNING!!!\n",
    "# This has already been run for 2016-01-01 to 2024-03-12\n",
    "# Don't re-run and make repeated API calls unless needed\n",
    "# Get data from OpenMeteo\n",
    "\n",
    "# daily_data = []\n",
    "# for i in range(len(latitude)):\n",
    "#   daily_data.append(getDataFromOpenMeteo(latitude[i], longitude[i], start_date, end_date, cities[i]))\n",
    "\n",
    "# print(len(daily_data))"
   ]
  },
  {
   "cell_type": "code",
   "execution_count": 84,
   "metadata": {},
   "outputs": [],
   "source": [
    "def getDataFromVisualCrossing(latitude, longitude, startDate, endDate, fileName):\n",
    "  url = \"https://weather.visualcrossing.com/VisualCrossingWebServices/rest/services/timeline/\" + str (latitude) + \\\n",
    "        \"%2C\" + str(longitude) + \"/\" + startDate + \"/\" + endDate + \"?unitGroup=us&include=days&key=\"+ os.getenv(\"VISUAL_CROSSING_API_KEY\") + \"&contentType=json\"\n",
    "  print(url)\n",
    "  print(\"https://weather.visualcrossing.com/VisualCrossingWebServices/rest/services/timeline/40.79736%2C-73.97785/2016-01-01/today?unitGroup=us&include=days&key=MHFU2QHX7NTY5RTWZPAT7VBXS&contentType=json\")\n",
    "# \"https://weather.visualcrossing.com/VisualCrosingWebServices/rest/services/timeline/\n",
    "# 40.79736%2C-73.97785/2016-01-01/today?unitGroup=us&include=days&key=MHFU2QHX7NTY5RTWZPAT7VBXS&contentType=json\"\n",
    "\n",
    "\n",
    "  payload={}\n",
    "  headers = {}\n",
    "\n",
    "  response = requests.request(\"GET\", url, headers=headers, data=payload)\n",
    "  pathlib.Path(\"visualCrossing_\" + '_'.join([fileName, startDate, 'to', endDate]) + '.json').write_bytes(response.content)\n",
    "\n",
    "  print(response.text)"
   ]
  },
  {
   "cell_type": "code",
   "execution_count": 102,
   "metadata": {},
   "outputs": [],
   "source": [
    "# WARNING!!!\n",
    "# Will incur an API cost, don't re-run\n",
    "# Historical Data is saved to a CSV\n",
    "\n",
    "# visual_crossing_data = []\n",
    "# for i in range(len(latitude)):\n",
    "  # daily_data.append(\n",
    "  # visual_crossing_data.append(getDataFromVisualCrossing(latitude[i], longitude[i], start_date, end_date, cities[i]))"
   ]
  },
  {
   "cell_type": "markdown",
   "metadata": {},
   "source": [
    "## Reading Data from the CSV and JSON Files creates from the API calls"
   ]
  },
  {
   "cell_type": "code",
   "execution_count": 110,
   "metadata": {},
   "outputs": [],
   "source": [
    "def readStoredJSONData(fileName):\n",
    "  with open(fileName, 'r') as file:\n",
    "    # Reading from json file\n",
    "    data = json.load(file)\n",
    "  return data\n",
    "\n",
    "def readStoredCSVData(fileName):\n",
    "  df = pd.read_csv(fileName)\n",
    "  return df"
   ]
  },
  {
   "cell_type": "code",
   "execution_count": 151,
   "metadata": {},
   "outputs": [],
   "source": [
    "# Read all visual crossing files\n",
    "vc_data = []\n",
    "for i in range(len(latitude)):\n",
    "  fileName = \"visualCrossing_\" + '_'.join([cities[i], start_date, 'to', end_date]) + '.json'\n",
    "  vc_data.append(readStoredJSONData(fileName))"
   ]
  },
  {
   "cell_type": "code",
   "execution_count": 143,
   "metadata": {},
   "outputs": [
    {
     "data": {
      "text/plain": [
       "list"
      ]
     },
     "execution_count": 143,
     "metadata": {},
     "output_type": "execute_result"
    }
   ],
   "source": [
    "type(vc_data[0]['days'])"
   ]
  },
  {
   "cell_type": "code",
   "execution_count": 155,
   "metadata": {},
   "outputs": [
    {
     "name": "stdout",
     "output_type": "stream",
     "text": [
      "<class 'pandas.core.frame.DataFrame'>\n",
      "RangeIndex: 2994 entries, 0 to 2993\n",
      "Data columns (total 5 columns):\n",
      " #   Column     Non-Null Count  Dtype  \n",
      "---  ------     --------------  -----  \n",
      " 0   datetime   2994 non-null   object \n",
      " 1   tempmax    2994 non-null   float64\n",
      " 2   tempmin    2994 non-null   float64\n",
      " 3   humidity   2994 non-null   float64\n",
      " 4   windspeed  2994 non-null   float64\n",
      "dtypes: float64(4), object(1)\n",
      "memory usage: 117.1+ KB\n",
      "None\n",
      "<class 'pandas.core.frame.DataFrame'>\n",
      "RangeIndex: 2994 entries, 0 to 2993\n",
      "Data columns (total 5 columns):\n",
      " #   Column     Non-Null Count  Dtype  \n",
      "---  ------     --------------  -----  \n",
      " 0   datetime   2994 non-null   object \n",
      " 1   tempmax    2994 non-null   float64\n",
      " 2   tempmin    2994 non-null   float64\n",
      " 3   humidity   2994 non-null   float64\n",
      " 4   windspeed  2994 non-null   float64\n",
      "dtypes: float64(4), object(1)\n",
      "memory usage: 117.1+ KB\n",
      "None\n",
      "<class 'pandas.core.frame.DataFrame'>\n",
      "RangeIndex: 2994 entries, 0 to 2993\n",
      "Data columns (total 5 columns):\n",
      " #   Column     Non-Null Count  Dtype  \n",
      "---  ------     --------------  -----  \n",
      " 0   datetime   2994 non-null   object \n",
      " 1   tempmax    2994 non-null   float64\n",
      " 2   tempmin    2994 non-null   float64\n",
      " 3   humidity   2994 non-null   float64\n",
      " 4   windspeed  2994 non-null   float64\n",
      "dtypes: float64(4), object(1)\n",
      "memory usage: 117.1+ KB\n",
      "None\n",
      "<class 'pandas.core.frame.DataFrame'>\n",
      "RangeIndex: 2994 entries, 0 to 2993\n",
      "Data columns (total 5 columns):\n",
      " #   Column     Non-Null Count  Dtype  \n",
      "---  ------     --------------  -----  \n",
      " 0   datetime   2994 non-null   object \n",
      " 1   tempmax    2994 non-null   float64\n",
      " 2   tempmin    2994 non-null   float64\n",
      " 3   humidity   2994 non-null   float64\n",
      " 4   windspeed  2994 non-null   float64\n",
      "dtypes: float64(4), object(1)\n",
      "memory usage: 117.1+ KB\n",
      "None\n"
     ]
    }
   ],
   "source": [
    "for cityData in vc_data:\n",
    "  city_df = pd.DataFrame(cityData['days'])\n",
    "  city_df = city_df[['datetime', 'tempmax', 'tempmin', 'humidity', 'windspeed']]\n",
    "  city_df['datetime'] = city_df['datetime'].apply(lambda x : str(x))\n",
    "  print(city_df.info())\n"
   ]
  },
  {
   "cell_type": "code",
   "execution_count": 156,
   "metadata": {},
   "outputs": [
    {
     "name": "stdout",
     "output_type": "stream",
     "text": [
      "<class 'pandas.core.frame.DataFrame'>\n",
      "RangeIndex: 2994 entries, 0 to 2993\n",
      "Data columns (total 5 columns):\n",
      " #   Column     Non-Null Count  Dtype  \n",
      "---  ------     --------------  -----  \n",
      " 0   datetime   2994 non-null   object \n",
      " 1   tempmax    2994 non-null   float64\n",
      " 2   tempmin    2994 non-null   float64\n",
      " 3   humidity   2994 non-null   float64\n",
      " 4   windspeed  2994 non-null   float64\n",
      "dtypes: float64(4), object(1)\n",
      "memory usage: 117.1+ KB\n",
      "None\n",
      "<class 'pandas.core.frame.DataFrame'>\n",
      "RangeIndex: 2994 entries, 0 to 2993\n",
      "Data columns (total 5 columns):\n",
      " #   Column     Non-Null Count  Dtype  \n",
      "---  ------     --------------  -----  \n",
      " 0   datetime   2994 non-null   object \n",
      " 1   tempmax    2994 non-null   float64\n",
      " 2   tempmin    2994 non-null   float64\n",
      " 3   humidity   2994 non-null   float64\n",
      " 4   windspeed  2994 non-null   float64\n",
      "dtypes: float64(4), object(1)\n",
      "memory usage: 117.1+ KB\n",
      "None\n",
      "<class 'pandas.core.frame.DataFrame'>\n",
      "RangeIndex: 2994 entries, 0 to 2993\n",
      "Data columns (total 5 columns):\n",
      " #   Column     Non-Null Count  Dtype  \n",
      "---  ------     --------------  -----  \n",
      " 0   datetime   2994 non-null   object \n",
      " 1   tempmax    2994 non-null   float64\n",
      " 2   tempmin    2994 non-null   float64\n",
      " 3   humidity   2994 non-null   float64\n",
      " 4   windspeed  2994 non-null   float64\n",
      "dtypes: float64(4), object(1)\n",
      "memory usage: 117.1+ KB\n",
      "None\n",
      "<class 'pandas.core.frame.DataFrame'>\n",
      "RangeIndex: 2994 entries, 0 to 2993\n",
      "Data columns (total 5 columns):\n",
      " #   Column     Non-Null Count  Dtype  \n",
      "---  ------     --------------  -----  \n",
      " 0   datetime   2994 non-null   object \n",
      " 1   tempmax    2994 non-null   float64\n",
      " 2   tempmin    2994 non-null   float64\n",
      " 3   humidity   2994 non-null   float64\n",
      " 4   windspeed  2994 non-null   float64\n",
      "dtypes: float64(4), object(1)\n",
      "memory usage: 117.1+ KB\n",
      "None\n"
     ]
    }
   ],
   "source": [
    "vc_dfs = []\n",
    "for cityData in vc_data:\n",
    "  city_df = pd.DataFrame(cityData['days'])\n",
    "  city_df = city_df[['datetime', 'tempmax', 'tempmin', 'humidity', 'windspeed']]\n",
    "  print(city_df.info())\n",
    "  vc_dfs.append(city_df)\n"
   ]
  },
  {
   "cell_type": "code",
   "execution_count": 158,
   "metadata": {},
   "outputs": [],
   "source": [
    "# Read all open meteo files\n",
    "om_dfs = []\n",
    "for i in range(len(latitude)):\n",
    "  fileName = \"openMeteo_\" + '_'.join([cities[i], start_date, 'to', end_date]) + '.csv'\n",
    "  om_df = readStoredCSVData(fileName)\n",
    "  # print(type(om_df['date'][0]))\n",
    "  # om_df['date'] = om_df['date'].apply(lambda x: datetime.strptime(x, \"%Y-%m-%d\"))\n",
    "  om_df['date'] = om_df['date'].apply(lambda x: x[:10])\n",
    "  om_df.set_index('date')\n",
    "  om_dfs.append(om_df)"
   ]
  },
  {
   "cell_type": "code",
   "execution_count": 159,
   "metadata": {},
   "outputs": [
    {
     "name": "stdout",
     "output_type": "stream",
     "text": [
      "<class 'pandas.core.frame.DataFrame'>\n",
      "RangeIndex: 2994 entries, 0 to 2993\n",
      "Data columns (total 6 columns):\n",
      " #   Column               Non-Null Count  Dtype  \n",
      "---  ------               --------------  -----  \n",
      " 0   date                 2994 non-null   object \n",
      " 1   temperature_2m_max   2992 non-null   float64\n",
      " 2   temperature_2m_min   2992 non-null   float64\n",
      " 3   sunshine_duration    2992 non-null   float64\n",
      " 4   precipitation_hours  2994 non-null   float64\n",
      " 5   wind_speed_10m_max   2992 non-null   float64\n",
      "dtypes: float64(5), object(1)\n",
      "memory usage: 140.5+ KB\n"
     ]
    }
   ],
   "source": [
    "om_data[0].info()"
   ]
  },
  {
   "cell_type": "code",
   "execution_count": 172,
   "metadata": {},
   "outputs": [
    {
     "name": "stdout",
     "output_type": "stream",
     "text": [
      "         date  tmax_vc  tmin_vc  humi_vc  wind_vc\n",
      "0  2016-01-01     42.2     35.1     52.5     13.9\n",
      "1  2016-01-02     39.8     33.3     47.4     13.7\n",
      "2  2016-01-03     44.3     34.9     48.6     16.3\n",
      "3  2016-01-04     36.1     15.2     46.4     19.2\n",
      "4  2016-01-05     28.6     11.3     38.8     14.8\n",
      "<class 'pandas.core.series.Series'>\n",
      "         date  tmax_om  tmin_om    sund_om  prec_om    wind_om\n",
      "0  2016-01-01     6.73     1.88  27001.312      0.0  21.077686\n",
      "1  2016-01-02     4.38    -1.42  29190.664      0.0  15.856356\n",
      "2  2016-01-03     6.58    -0.97  29205.188      0.0  19.083395\n",
      "3  2016-01-04     2.08    -5.47  29141.408      0.0  24.280659\n",
      "4  2016-01-05    -1.22   -10.02  29472.777      0.0  26.282465\n"
     ]
    }
   ],
   "source": [
    "# print(vc_dfs[0].info())\n",
    "# print(om_dfs[0].info())\n",
    "\n",
    "for vc_df in vc_dfs:\n",
    "  vc_df.columns = ['date', 'tmax_vc', 'tmin_vc', 'humi_vc', 'wind_vc']\n",
    "  vc_df.set_index('date')\n",
    "  \n",
    "for om_df in om_dfs:\n",
    "  om_df.columns = ['date', 'tmax_om', 'tmin_om', 'sund_om', 'prec_om', 'wind_om']\n",
    "  om_df.set_index('date')\n",
    "\n",
    "print(vc_dfs[0].head())\n",
    "print(type(vc_dfs[0]['date']))\n",
    "print(om_dfs[0].head())\n",
    "# all_dfs = vc_dfs + om_dfs\n",
    "# all_dfs = pd.concat(all_dfs)\n",
    "# print(all_dfs[0].info())"
   ]
  },
  {
   "cell_type": "code",
   "execution_count": 183,
   "metadata": {},
   "outputs": [
    {
     "name": "stdout",
     "output_type": "stream",
     "text": [
      "<class 'pandas.core.frame.DataFrame'>\n",
      "RangeIndex: 2994 entries, 0 to 2993\n",
      "Data columns (total 10 columns):\n",
      " #   Column   Non-Null Count  Dtype  \n",
      "---  ------   --------------  -----  \n",
      " 0   date     2994 non-null   object \n",
      " 1   tmax_vc  2994 non-null   float64\n",
      " 2   tmin_vc  2994 non-null   float64\n",
      " 3   humi_vc  2994 non-null   float64\n",
      " 4   wind_vc  2994 non-null   float64\n",
      " 5   tmax_om  2992 non-null   float64\n",
      " 6   tmin_om  2992 non-null   float64\n",
      " 7   sund_om  2992 non-null   float64\n",
      " 8   prec_om  2994 non-null   float64\n",
      " 9   wind_om  2992 non-null   float64\n",
      "dtypes: float64(9), object(1)\n",
      "memory usage: 234.0+ KB\n",
      "None\n",
      "         date  tmax_vc  tmin_vc  humi_vc  wind_vc  tmax_om  tmin_om  \\\n",
      "0  2016-01-01     42.2     35.1     52.5     13.9     6.73     1.88   \n",
      "1  2016-01-02     39.8     33.3     47.4     13.7     4.38    -1.42   \n",
      "2  2016-01-03     44.3     34.9     48.6     16.3     6.58    -0.97   \n",
      "3  2016-01-04     36.1     15.2     46.4     19.2     2.08    -5.47   \n",
      "4  2016-01-05     28.6     11.3     38.8     14.8    -1.22   -10.02   \n",
      "\n",
      "     sund_om  prec_om    wind_om  \n",
      "0  27001.312      0.0  21.077686  \n",
      "1  29190.664      0.0  15.856356  \n",
      "2  29205.188      0.0  19.083395  \n",
      "3  29141.408      0.0  24.280659  \n",
      "4  29472.777      0.0  26.282465  \n"
     ]
    }
   ],
   "source": [
    "for vc_df in vc_dfs:\n",
    "  vc_df.columns = ['date', 'tmax_vc', 'tmin_vc', 'humi_vc', 'wind_vc']\n",
    "  vc_df.set_index('date')\n",
    "  \n",
    "for om_df in om_dfs:\n",
    "  om_df.columns = ['date', 'tmax_om', 'tmin_om', 'sund_om', 'prec_om', 'wind_om']\n",
    "  om_df.set_index('date')\n",
    "\n",
    "# print(vc_dfs[0].head())\n",
    "# print(type(vc_dfs[0]['date']))\n",
    "# print(om_dfs[0].head())\n",
    "# print(type(om_dfs[0]['date']))\n",
    "merged_dfs = []\n",
    "\n",
    "for i in range(len(vc_dfs)):\n",
    "  merged_df = pd.merge(vc_dfs[i], om_dfs[i]) \n",
    "  # , left_index=True, right_index=True)\n",
    "  merged_dfs.append(merged_df)\n",
    "\n",
    "print(merged_dfs[0].info())\n",
    "print(merged_dfs[0].head())\n",
    "\n",
    "# Merged_dfs is a single DF will all data points from different sources"
   ]
  },
  {
   "cell_type": "markdown",
   "metadata": {},
   "source": [
    "## Serialising and De-serialising the final DFs for the historical data"
   ]
  },
  {
   "cell_type": "code",
   "execution_count": 186,
   "metadata": {},
   "outputs": [],
   "source": [
    "# Store the merged_df DataFrame to disk for later computations\n",
    "for i in range(len(cities)):\n",
    "  merged_dfs[i].to_pickle(\"./merged_df_\" + cities[i] + \".pkl\")  "
   ]
  },
  {
   "cell_type": "code",
   "execution_count": 190,
   "metadata": {},
   "outputs": [
    {
     "name": "stdout",
     "output_type": "stream",
     "text": [
      "Loaded DFs for 4 cities.\n",
      "\n",
      "<class 'pandas.core.frame.DataFrame'>\n",
      "RangeIndex: 2994 entries, 0 to 2993\n",
      "Data columns (total 10 columns):\n",
      " #   Column   Non-Null Count  Dtype  \n",
      "---  ------   --------------  -----  \n",
      " 0   date     2994 non-null   object \n",
      " 1   tmax_vc  2994 non-null   float64\n",
      " 2   tmin_vc  2994 non-null   float64\n",
      " 3   humi_vc  2994 non-null   float64\n",
      " 4   wind_vc  2994 non-null   float64\n",
      " 5   tmax_om  2992 non-null   float64\n",
      " 6   tmin_om  2992 non-null   float64\n",
      " 7   sund_om  2992 non-null   float64\n",
      " 8   prec_om  2994 non-null   float64\n",
      " 9   wind_om  2992 non-null   float64\n",
      "dtypes: float64(9), object(1)\n",
      "memory usage: 234.0+ KB\n",
      "None\n"
     ]
    }
   ],
   "source": [
    "# Unpickle the DataFrames\n",
    "city_history_dfs = []\n",
    "\n",
    "for i in range(len(cities)):\n",
    "  city_history_dfs.append(pd.read_pickle(\"./merged_df_\" + cities[i] + \".pkl\"))\n",
    "\n",
    "print(\"Loaded DFs for \" + str(len(city_history_dfs)) + \" cities.\\n\")\n",
    "print(city_history_dfs[0].info())"
   ]
  }
 ],
 "metadata": {
  "kernelspec": {
   "display_name": "cs542",
   "language": "python",
   "name": "python3"
  },
  "language_info": {
   "codemirror_mode": {
    "name": "ipython",
    "version": 3
   },
   "file_extension": ".py",
   "mimetype": "text/x-python",
   "name": "python",
   "nbconvert_exporter": "python",
   "pygments_lexer": "ipython3",
   "version": "3.12.2"
  }
 },
 "nbformat": 4,
 "nbformat_minor": 2
}
