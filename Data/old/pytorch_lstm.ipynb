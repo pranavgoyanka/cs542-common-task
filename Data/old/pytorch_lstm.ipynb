{
 "cells": [
  {
   "cell_type": "code",
   "execution_count": 17,
   "metadata": {},
   "outputs": [],
   "source": [
    "import torch\n",
    "import torch.nn as nn\n",
    "import numpy as np\n",
    "from sklearn.preprocessing import MinMaxScaler\n",
    "from datetime import datetime\n",
    "import pandas as pd\n"
   ]
  },
  {
   "cell_type": "code",
   "execution_count": 19,
   "metadata": {},
   "outputs": [
    {
     "name": "stderr",
     "output_type": "stream",
     "text": [
      "/var/folders/b9/fkf035lj1y786gv5xh300_qc0000gn/T/ipykernel_12901/2629307008.py:2: DtypeWarning: Columns (7,11,17,23,31,33,35,37,39,41,43,45,47,49,51,53,55,65,67,69,71,73,75,77,79,81,83,85,87,89) have mixed types. Specify dtype option on import or set low_memory=False.\n",
      "  df = pd.read_csv('ny_data.csv')\n"
     ]
    }
   ],
   "source": [
    "# Load data\n",
    "df = pd.read_csv('ny_data.csv')\n",
    "temps = df[['DATE', 'TMAX', 'TMIN', \"PRCP\"]].values"
   ]
  },
  {
   "cell_type": "code",
   "execution_count": 24,
   "metadata": {},
   "outputs": [
    {
     "data": {
      "text/plain": [
       "array([['1970-01-01', 25, 19, 0.0],\n",
       "       ['1970-01-02', 30, 18, 0.0],\n",
       "       ['1970-01-03', 36, 25, 0.04],\n",
       "       ...,\n",
       "       ['2024-02-22', 45, 35, 0.04],\n",
       "       ['2024-02-23', 47, 42, 0.04],\n",
       "       ['2024-02-24', 44, 28, 0.0]], dtype=object)"
      ]
     },
     "execution_count": 24,
     "metadata": {},
     "output_type": "execute_result"
    }
   ],
   "source": [
    "temps"
   ]
  },
  {
   "cell_type": "code",
   "execution_count": 30,
   "metadata": {},
   "outputs": [],
   "source": [
    "dates = [datetime.strptime(row[0], \"%Y-%m-%d\") for row in temps]\n",
    "# for row in temps:\n",
    "#   print(type(row[0]))"
   ]
  },
  {
   "cell_type": "code",
   "execution_count": 31,
   "metadata": {},
   "outputs": [],
   "source": [
    "# Extract features and target\n",
    "X = np.array([[row[2], row[1], row[3]] for row in temps], dtype=np.float32)\n",
    "y = np.array([[row[1]] for row in temps], dtype=np.float32)"
   ]
  },
  {
   "cell_type": "code",
   "execution_count": 34,
   "metadata": {},
   "outputs": [
    {
     "data": {
      "text/plain": [
       "array([[25.],\n",
       "       [30.],\n",
       "       [36.],\n",
       "       ...,\n",
       "       [45.],\n",
       "       [47.],\n",
       "       [44.]], dtype=float32)"
      ]
     },
     "execution_count": 34,
     "metadata": {},
     "output_type": "execute_result"
    }
   ],
   "source": [
    "y"
   ]
  },
  {
   "cell_type": "code",
   "execution_count": 35,
   "metadata": {},
   "outputs": [],
   "source": [
    "# Normalize features\n",
    "scaler = MinMaxScaler(feature_range=(-1, 1))\n",
    "X_normalized = scaler.fit_transform(X)\n",
    "\n"
   ]
  },
  {
   "cell_type": "code",
   "execution_count": 36,
   "metadata": {},
   "outputs": [],
   "source": [
    "# Convert data to PyTorch tensors\n",
    "X_tensor = torch.from_numpy(X_normalized).unsqueeze(1)  # Add a dimension for sequence length\n",
    "y_tensor = torch.from_numpy(y)"
   ]
  },
  {
   "cell_type": "code",
   "execution_count": 37,
   "metadata": {},
   "outputs": [],
   "source": [
    "# Define LSTM model\n",
    "class LSTM(nn.Module):\n",
    "    def __init__(self, input_size, hidden_size, num_layers=1):\n",
    "        super(LSTM, self).__init__()\n",
    "        self.hidden_size = hidden_size\n",
    "        self.num_layers = num_layers\n",
    "        self.lstm = nn.LSTM(input_size, hidden_size, num_layers, batch_first=True)\n",
    "        self.fc = nn.Linear(hidden_size, 1)\n",
    "\n",
    "    def forward(self, x):\n",
    "        h0 = torch.zeros(self.num_layers, x.size(0), self.hidden_size).to(x.device)\n",
    "        c0 = torch.zeros(self.num_layers, x.size(0), self.hidden_size).to(x.device)\n",
    "        out, _ = self.lstm(x, (h0, c0))\n",
    "        out = self.fc(out[:, -1, :])\n",
    "        return out"
   ]
  },
  {
   "cell_type": "code",
   "execution_count": 38,
   "metadata": {},
   "outputs": [],
   "source": [
    "# Define hyperparameters\n",
    "input_size = 3  # Number of features\n",
    "hidden_size = 64\n",
    "num_layers = 2\n",
    "learning_rate = 0.001\n",
    "num_epochs = 100\n"
   ]
  },
  {
   "cell_type": "code",
   "execution_count": 39,
   "metadata": {},
   "outputs": [],
   "source": [
    "# Initialize model\n",
    "model = LSTM(input_size, hidden_size, num_layers)\n",
    "\n",
    "# Define loss function and optimizer\n",
    "criterion = nn.MSELoss()\n",
    "optimizer = torch.optim.Adam(model.parameters(), lr=learning_rate)"
   ]
  },
  {
   "cell_type": "code",
   "execution_count": 40,
   "metadata": {},
   "outputs": [
    {
     "name": "stdout",
     "output_type": "stream",
     "text": [
      "Epoch [10/100], Loss: 4282.7783\n",
      "Epoch [20/100], Loss: 4273.0952\n",
      "Epoch [30/100], Loss: 4258.8901\n",
      "Epoch [40/100], Loss: 4235.2285\n",
      "Epoch [50/100], Loss: 4194.3789\n",
      "Epoch [60/100], Loss: 4126.3789\n",
      "Epoch [70/100], Loss: 4023.7444\n",
      "Epoch [80/100], Loss: 3888.2266\n",
      "Epoch [90/100], Loss: 3731.6882\n",
      "Epoch [100/100], Loss: 3569.4670\n"
     ]
    }
   ],
   "source": [
    "# Train the model\n",
    "for epoch in range(num_epochs):\n",
    "    outputs = model(X_tensor)\n",
    "    loss = criterion(outputs, y_tensor)\n",
    "    optimizer.zero_grad()\n",
    "    loss.backward()\n",
    "    optimizer.step()\n",
    "    if (epoch+1) % 10 == 0:\n",
    "        print(f'Epoch [{epoch+1}/{num_epochs}], Loss: {loss.item():.4f}')\n"
   ]
  },
  {
   "cell_type": "code",
   "execution_count": 41,
   "metadata": {},
   "outputs": [
    {
     "name": "stdout",
     "output_type": "stream",
     "text": [
      "Predicted maximum temperature for 2024-03-10: -0.53\n"
     ]
    }
   ],
   "source": [
    "# Test the model\n",
    "with torch.no_grad():\n",
    "    future_date = datetime.strptime(\"2024-03-10\", \"%Y-%m-%d\")\n",
    "    future_input = torch.from_numpy(scaler.transform(np.array([[0.03, 21, 31]], dtype=np.float32))).unsqueeze(1)\n",
    "    predicted_temp = model(future_input).item()\n",
    "    print(f'Predicted maximum temperature for {future_date.strftime(\"%Y-%m-%d\")}: {predicted_temp:.2f}')"
   ]
  }
 ],
 "metadata": {
  "kernelspec": {
   "display_name": "cs542",
   "language": "python",
   "name": "python3"
  },
  "language_info": {
   "codemirror_mode": {
    "name": "ipython",
    "version": 3
   },
   "file_extension": ".py",
   "mimetype": "text/x-python",
   "name": "python",
   "nbconvert_exporter": "python",
   "pygments_lexer": "ipython3",
   "version": "3.12.2"
  }
 },
 "nbformat": 4,
 "nbformat_minor": 2
}
